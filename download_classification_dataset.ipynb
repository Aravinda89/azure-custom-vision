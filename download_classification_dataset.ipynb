{
 "cells": [
  {
   "cell_type": "code",
   "execution_count": 15,
   "id": "22ddeb5e-1fc0-4d49-a8c9-22bdbc842d4a",
   "metadata": {},
   "outputs": [],
   "source": [
    "from azure.cognitiveservices.vision.customvision.training import CustomVisionTrainingClient\n",
    "from msrest.authentication import ApiKeyCredentials\n",
    "import requests\n",
    "import os\n",
    "import csv\n",
    "from dotenv import load_dotenv"
   ]
  },
  {
   "cell_type": "code",
   "execution_count": 16,
   "id": "ddf118db-6206-449d-9300-bfef2e0d14a3",
   "metadata": {},
   "outputs": [],
   "source": [
    "# Load Azure credentials from .env file\n",
    "load_dotenv()\n",
    "ENDPOINT = os.getenv(\"ENDPOINT\")\n",
    "TRAINING_KEY = os.getenv(\"TRAINING_KEY\")\n",
    "PROJECT_ID = os.getenv(\"PROJECT_ID\")"
   ]
  },
  {
   "cell_type": "code",
   "execution_count": 17,
   "id": "9e02aa5c-00a1-4a87-bf31-763448460019",
   "metadata": {},
   "outputs": [],
   "source": [
    "# Create a directory to save images\n",
    "SAVE_DIR = \"images\"\n",
    "os.makedirs(SAVE_DIR, exist_ok=True)\n",
    "\n",
    "# CSV file for storing labels\n",
    "CSV_FILE = os.path.join(SAVE_DIR, \"tags.csv\")"
   ]
  },
  {
   "cell_type": "code",
   "execution_count": 18,
   "id": "79accea9-e4c8-4f0d-b330-11f0ff94cbd4",
   "metadata": {},
   "outputs": [],
   "source": [
    "# retrieving imagesin batches\n",
    "def get_tagged_images(project_id, batch_size=256):\n",
    "    \"\"\"\n",
    "    Fetch all tagged images from the Azure Custom Vision project.\n",
    "    \"\"\"\n",
    "    images, skip = [], 0\n",
    "    while True:\n",
    "        try:\n",
    "            batch = trainer.get_tagged_images(project_id, take=batch_size, skip=skip)\n",
    "            if not batch:\n",
    "                break\n",
    "            images.extend(batch)\n",
    "            skip += batch_size\n",
    "        except Exception as e:\n",
    "            print(f\"Error retrieving images: {e}\")\n",
    "            break\n",
    "    return images\n"
   ]
  },
  {
   "cell_type": "code",
   "execution_count": 20,
   "id": "ef821b8b-2f7e-409a-854e-72ace6a1e0d1",
   "metadata": {},
   "outputs": [
    {
     "name": "stdout",
     "output_type": "stream",
     "text": [
      "Retrieved 20 tagged images.\n"
     ]
    }
   ],
   "source": [
    "# Authenticate with Azure Custom Vision\n",
    "trainer = CustomVisionTrainingClient(ENDPOINT, ApiKeyCredentials(in_headers={\"Training-key\": TRAINING_KEY}))\n",
    "\n",
    "# Retrieve tagged images\n",
    "tagged_images = get_tagged_images(PROJECT_ID)\n",
    "print(f\"Retrieved {len(tagged_images)} tagged images.\")"
   ]
  },
  {
   "cell_type": "code",
   "execution_count": 21,
   "id": "de264b96-1857-4fac-b675-2e226f3c671f",
   "metadata": {},
   "outputs": [
    {
     "name": "stdout",
     "output_type": "stream",
     "text": [
      "Images and tags saved successfully.\n"
     ]
    }
   ],
   "source": [
    "# Download images and save tags\n",
    "with open(CSV_FILE, \"w\", newline=\"\") as f:\n",
    "    writer = csv.writer(f)\n",
    "    writer.writerow([\"Image ID\", \"Tags\"])\n",
    "\n",
    "    for image in tagged_images:\n",
    "        img_path = os.path.join(SAVE_DIR, f\"{image.id}.jpg\")\n",
    "\n",
    "        try:\n",
    "            # Download and save image\n",
    "            response = requests.get(image.original_image_uri, timeout=10)  # Set timeout to 10 sec\n",
    "            response.raise_for_status()  # Raise an error for bad HTTP responses (e.g., 404, 500)\n",
    "            \n",
    "            with open(img_path, \"wb\") as img_file:\n",
    "                img_file.write(response.content)\n",
    "\n",
    "            # Save image tags\n",
    "            writer.writerow([image.id, \",\".join(tag.tag_name for tag in image.tags)])\n",
    "\n",
    "        except requests.exceptions.RequestException as e:\n",
    "            print(f\"Skipping image {image.id} due to download error: {e}\")\n",
    "        except Exception as e:\n",
    "            print(f\"Skipping image {image.id} due to unexpected error: {e}\")\n",
    "\n",
    "print(\"Images and tags saved successfully.\")"
   ]
  }
 ],
 "metadata": {
  "kernelspec": {
   "display_name": "TF_env",
   "language": "python",
   "name": "tf_env"
  },
  "language_info": {
   "codemirror_mode": {
    "name": "ipython",
    "version": 3
   },
   "file_extension": ".py",
   "mimetype": "text/x-python",
   "name": "python",
   "nbconvert_exporter": "python",
   "pygments_lexer": "ipython3",
   "version": "3.9.18"
  }
 },
 "nbformat": 4,
 "nbformat_minor": 5
}
