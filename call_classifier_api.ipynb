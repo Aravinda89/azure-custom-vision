{
 "cells": [
  {
   "cell_type": "code",
   "execution_count": 4,
   "id": "ee6eacde-bbef-4f57-a897-01d7e82a035e",
   "metadata": {},
   "outputs": [],
   "source": [
    "import requests"
   ]
  },
  {
   "cell_type": "code",
   "execution_count": 5,
   "id": "63aad6e7-b6dd-42b8-b9b0-0a5c19bb0513",
   "metadata": {},
   "outputs": [],
   "source": [
    "# Replace with your actual values\n",
    "prediction_key = \"xxxxxxxxxxxxxxxxxx\""
   ]
  },
  {
   "cell_type": "code",
   "execution_count": 6,
   "id": "ae9c075b-9520-49fe-a6b9-68345dfdfa88",
   "metadata": {},
   "outputs": [],
   "source": [
    "image_path = \"./test.jpg\"  # Local image file"
   ]
  },
  {
   "cell_type": "code",
   "execution_count": 7,
   "id": "3fe757ad-18a6-4947-89d7-d82c2e5803db",
   "metadata": {},
   "outputs": [
    {
     "name": "stdout",
     "output_type": "stream",
     "text": [
      "Prediction Result: {'id': '8009a2ac-1089-4312-bb98-ba76aaca9549', 'project': '1f33e049-47ba-4482-baab-5bdcab076d92', 'iteration': '11872444-1365-49c5-9f03-e8ba0b64dda1', 'created': '2025-04-19T08:27:13.707Z', 'predictions': [{'probability': 0.99478877, 'tagId': '04939af7-78cf-4652-bbca-88434ad4f108', 'tagName': 'fork'}, {'probability': 0.0052112215, 'tagId': '14c0e379-f1e7-410f-a576-5a3220b8e3c8', 'tagName': 'scissor'}]}\n"
     ]
    }
   ],
   "source": [
    "# Construct API URL\n",
    "url = f\"{endpoint}/customvision/v3.0/Prediction/{project_id}/classify/iterations/{published_name}/image\"\n",
    "\n",
    "# Headers\n",
    "headers = {\n",
    "    \"Prediction-Key\": prediction_key,\n",
    "    \"Content-Type\": \"application/octet-stream\"\n",
    "}\n",
    "\n",
    "# Read the image as binary\n",
    "with open(image_path, \"rb\") as image_file:\n",
    "    response = requests.post(url, headers=headers, data=image_file)\n",
    "\n",
    "# Print response\n",
    "if response.status_code == 200:\n",
    "    print(\"Prediction Result:\", response.json())\n",
    "else:\n",
    "    print(\"Error:\", response.text)"
   ]
  },
  {
   "cell_type": "code",
   "execution_count": 8,
   "id": "d5912c57-b3da-4fb1-b561-41c0b5a7993a",
   "metadata": {},
   "outputs": [
    {
     "name": "stdout",
     "output_type": "stream",
     "text": [
      "fork : 0.99478877\n",
      "scissor : 0.0052112215\n"
     ]
    }
   ],
   "source": [
    "for pred in response.json()['predictions']:\n",
    "    print(pred['tagName'],':',pred['probability'])"
   ]
  }
 ],
 "metadata": {
  "kernelspec": {
   "display_name": "TF_env",
   "language": "python",
   "name": "tf_env"
  },
  "language_info": {
   "codemirror_mode": {
    "name": "ipython",
    "version": 3
   },
   "file_extension": ".py",
   "mimetype": "text/x-python",
   "name": "python",
   "nbconvert_exporter": "python",
   "pygments_lexer": "ipython3",
   "version": "3.9.18"
  }
 },
 "nbformat": 4,
 "nbformat_minor": 5
}
