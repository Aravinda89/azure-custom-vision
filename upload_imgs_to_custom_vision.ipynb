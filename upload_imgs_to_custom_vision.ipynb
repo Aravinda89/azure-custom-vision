{
 "cells": [
  {
   "cell_type": "code",
   "execution_count": null,
   "id": "8971ee20-3685-4b3f-8b88-290a6bb86e95",
   "metadata": {},
   "outputs": [],
   "source": [
    "# %pip install azure-cognitiveservices-vision-customvision\n",
    "# %pip install pylabel"
   ]
  },
  {
   "cell_type": "code",
   "execution_count": 9,
   "id": "afc5f373-e8bb-4632-b389-35c7455371ee",
   "metadata": {},
   "outputs": [],
   "source": [
    "#Import Azure cognitive services libraries \n",
    "from azure.cognitiveservices.vision.customvision.training import CustomVisionTrainingClient\n",
    "from azure.cognitiveservices.vision.customvision.prediction import CustomVisionPredictionClient\n",
    "from azure.cognitiveservices.vision.customvision.training.models import ImageFileCreateBatch, ImageFileCreateEntry, Region\n",
    "from msrest.authentication import ApiKeyCredentials\n",
    "import pandas as pd\n",
    "\n",
    "#Import other libraries used in this notebook \n",
    "import os, zipfile\n",
    "from pathlib import PurePath\n",
    "from os.path import exists\n",
    "from decimal import *\n",
    "\n",
    "from pylabel import importer\n",
    "from tqdm import tqdm"
   ]
  },
  {
   "cell_type": "code",
   "execution_count": 34,
   "id": "f6b4f18e-8bf9-488f-967e-17c4e02c5f61",
   "metadata": {},
   "outputs": [],
   "source": [
    "ENDPOINT = \"\"\n",
    "training_key = \"\"\n",
    "PROJECT_ID = \"\"\n",
    "\n",
    "prediction_key = \"\"\n",
    "prediction_resource_id = \"\""
   ]
  },
  {
   "cell_type": "code",
   "execution_count": 3,
   "id": "79fbb1ba-3ce4-4447-8d93-35d3f09db846",
   "metadata": {},
   "outputs": [],
   "source": [
    "#Initialize objects used by Azure Congitive vision\n",
    "credentials = ApiKeyCredentials(in_headers={\"Training-key\": training_key})\n",
    "trainer = CustomVisionTrainingClient(ENDPOINT, credentials)\n",
    "\n",
    "# prediction_credentials = ApiKeyCredentials(in_headers={\"Prediction-key\": prediction_key})\n",
    "# predictor = CustomVisionPredictionClient(ENDPOINT, prediction_credentials)"
   ]
  },
  {
   "cell_type": "code",
   "execution_count": 5,
   "id": "1d99e600-6a04-4b45-9d9d-2996c32bd8ec",
   "metadata": {},
   "outputs": [],
   "source": [
    "#Create a new project\n",
    "# publish_iteration_name = \"detectModel\"\n",
    "\n",
    "obj_detection_domain = next(domain for domain in trainer.get_domains() if domain.type == \"ObjectDetection\" and domain.name == \"General\")\n",
    "project = trainer.create_project(\"test_project\", domain_id=obj_detection_domain.id)\n",
    "\n",
    "#If you browse to https://www.customvision.ai/ you should see a new project called \"PyLabel Sample Dataset\""
   ]
  },
  {
   "cell_type": "code",
   "execution_count": 4,
   "id": "56bd59f8-9c56-4539-ba5b-0d04b8f376fe",
   "metadata": {},
   "outputs": [],
   "source": [
    "#Import annotations as a PyLabel dataset\n",
    "# dataset = importer.ImportYoloV5(path=\"./squirrelsandnuts_train/squirrelsandnuts_train/labels/train\",\n",
    "#         path_to_images=\"../../images/train\", \n",
    "#         img_ext=\"jpeg\",\n",
    "#         cat_names=['Squirrel','Nut']\n",
    "#     )\n",
    "# dataset.df.head(3)"
   ]
  },
  {
   "cell_type": "code",
   "execution_count": 29,
   "id": "739d88f0-3e92-477c-acf3-5423e30dd36b",
   "metadata": {},
   "outputs": [],
   "source": [
    "# PROJECT_ID = project.id"
   ]
  },
  {
   "cell_type": "code",
   "execution_count": 6,
   "id": "e880c2f0-1bb8-4966-ba06-9600dbfdd1e9",
   "metadata": {},
   "outputs": [
    {
     "data": {
      "text/plain": [
       "{'burner': <azure.cognitiveservices.vision.customvision.training.models._models_py3.Tag at 0x1dbb8b9f400>,\n",
       " 'cooktop': <azure.cognitiveservices.vision.customvision.training.models._models_py3.Tag at 0x1dbb8b9f820>}"
      ]
     },
     "execution_count": 6,
     "metadata": {},
     "output_type": "execute_result"
    }
   ],
   "source": [
    "classes = ['burner', 'cooktop']\n",
    "\n",
    "#Create a tag for each class and store then in a dict where the class name is the key\n",
    "tags = {}\n",
    "for class_name in classes:\n",
    "    tag = trainer.create_tag(PROJECT_ID, class_name)\n",
    "    tags[class_name] = tag\n",
    "\n",
    "tags"
   ]
  },
  {
   "cell_type": "code",
   "execution_count": 35,
   "id": "29e12e96-b37c-4ad0-8611-b35e7a6ac608",
   "metadata": {},
   "outputs": [
    {
     "data": {
      "text/plain": [
       "{'burner': 'd2cbd074-7074-475f-959e-0af3b14a4ad9',\n",
       " 'cooktop': '7cf158fc-8c6f-488b-8c01-aa7ce681cb59'}"
      ]
     },
     "execution_count": 35,
     "metadata": {},
     "output_type": "execute_result"
    }
   ],
   "source": [
    "tags = {tag.name: tag.id for tag in trainer.get_tags(PROJECT_ID)}\n",
    "tags"
   ]
  },
  {
   "cell_type": "code",
   "execution_count": 43,
   "id": "2a6576af-ec68-463e-9dba-e1451c27ec0c",
   "metadata": {},
   "outputs": [
    {
     "data": {
      "text/html": [
       "<div>\n",
       "<style scoped>\n",
       "    .dataframe tbody tr th:only-of-type {\n",
       "        vertical-align: middle;\n",
       "    }\n",
       "\n",
       "    .dataframe tbody tr th {\n",
       "        vertical-align: top;\n",
       "    }\n",
       "\n",
       "    .dataframe thead th {\n",
       "        text-align: right;\n",
       "    }\n",
       "</style>\n",
       "<table border=\"1\" class=\"dataframe\">\n",
       "  <thead>\n",
       "    <tr style=\"text-align: right;\">\n",
       "      <th></th>\n",
       "      <th>FileName</th>\n",
       "      <th>ClaimReference</th>\n",
       "      <th>bboxes</th>\n",
       "    </tr>\n",
       "  </thead>\n",
       "  <tbody>\n",
       "    <tr>\n",
       "      <th>0</th>\n",
       "      <td>4df319f3-81ef-47ba-ad9b-b2eddac35592.jpg</td>\n",
       "      <td>Test_yago_222</td>\n",
       "      <td>[{'left': 0.117004454, 'top': 0.48649615, 'wid...</td>\n",
       "    </tr>\n",
       "    <tr>\n",
       "      <th>1</th>\n",
       "      <td>b57039ec-c1c3-40bc-a831-caa7a522d012.jpg</td>\n",
       "      <td>9704362873</td>\n",
       "      <td>[{'left': 0.05457288, 'top': 0.15867461, 'widt...</td>\n",
       "    </tr>\n",
       "    <tr>\n",
       "      <th>2</th>\n",
       "      <td>b753e287-43fb-4bb1-9e5b-ddd27dc5abbf.jpg</td>\n",
       "      <td>9704323816</td>\n",
       "      <td>[{'left': 0.30414692, 'top': 0.25469273, 'widt...</td>\n",
       "    </tr>\n",
       "    <tr>\n",
       "      <th>3</th>\n",
       "      <td>b9404bfc-8225-477e-9264-239e97a52043.jpg</td>\n",
       "      <td>9704392763</td>\n",
       "      <td>[{'left': 0.5341124, 'top': 0.41454566, 'width...</td>\n",
       "    </tr>\n",
       "    <tr>\n",
       "      <th>4</th>\n",
       "      <td>comp_b5f5db95-9cfc-4184-b5d3-904535854ff9.jpg</td>\n",
       "      <td>9704326889</td>\n",
       "      <td>[{'left': 0.5626941, 'top': 0.4200442, 'width'...</td>\n",
       "    </tr>\n",
       "    <tr>\n",
       "      <th>...</th>\n",
       "      <td>...</td>\n",
       "      <td>...</td>\n",
       "      <td>...</td>\n",
       "    </tr>\n",
       "    <tr>\n",
       "      <th>384</th>\n",
       "      <td>cf86c6e9-273a-4055-9475-8b7b49c65565.jpg</td>\n",
       "      <td>9704420088</td>\n",
       "      <td>[{'left': 0.5418597, 'top': 0.45997715, 'width...</td>\n",
       "    </tr>\n",
       "    <tr>\n",
       "      <th>385</th>\n",
       "      <td>acdddf64-cf71-446f-8762-1b6c41ee05ae.jpg</td>\n",
       "      <td>9704309154</td>\n",
       "      <td>[{'left': 0.17351826, 'top': 0.23820734, 'widt...</td>\n",
       "    </tr>\n",
       "    <tr>\n",
       "      <th>386</th>\n",
       "      <td>d6209279-db64-4c61-b362-151eeb56a94a.jpg</td>\n",
       "      <td>9704371968</td>\n",
       "      <td>[{'left': 0.2798521, 'top': 0.5171221, 'width'...</td>\n",
       "    </tr>\n",
       "    <tr>\n",
       "      <th>387</th>\n",
       "      <td>42ee0bcf-08ea-4298-b87b-73229f9103a9.jpg</td>\n",
       "      <td>9704371049</td>\n",
       "      <td>[{'left': 0.301617, 'top': 0.20707689, 'width'...</td>\n",
       "    </tr>\n",
       "    <tr>\n",
       "      <th>388</th>\n",
       "      <td>e5808e5a-6b12-479f-ae6d-4a685f534c77.jpg</td>\n",
       "      <td>9704350440</td>\n",
       "      <td>[{'left': 0.35780194, 'top': 0.62812567, 'widt...</td>\n",
       "    </tr>\n",
       "  </tbody>\n",
       "</table>\n",
       "<p>389 rows × 3 columns</p>\n",
       "</div>"
      ],
      "text/plain": [
       "                                          FileName ClaimReference  \\\n",
       "0         4df319f3-81ef-47ba-ad9b-b2eddac35592.jpg  Test_yago_222   \n",
       "1         b57039ec-c1c3-40bc-a831-caa7a522d012.jpg     9704362873   \n",
       "2         b753e287-43fb-4bb1-9e5b-ddd27dc5abbf.jpg     9704323816   \n",
       "3         b9404bfc-8225-477e-9264-239e97a52043.jpg     9704392763   \n",
       "4    comp_b5f5db95-9cfc-4184-b5d3-904535854ff9.jpg     9704326889   \n",
       "..                                             ...            ...   \n",
       "384       cf86c6e9-273a-4055-9475-8b7b49c65565.jpg     9704420088   \n",
       "385       acdddf64-cf71-446f-8762-1b6c41ee05ae.jpg     9704309154   \n",
       "386       d6209279-db64-4c61-b362-151eeb56a94a.jpg     9704371968   \n",
       "387       42ee0bcf-08ea-4298-b87b-73229f9103a9.jpg     9704371049   \n",
       "388       e5808e5a-6b12-479f-ae6d-4a685f534c77.jpg     9704350440   \n",
       "\n",
       "                                                bboxes  \n",
       "0    [{'left': 0.117004454, 'top': 0.48649615, 'wid...  \n",
       "1    [{'left': 0.05457288, 'top': 0.15867461, 'widt...  \n",
       "2    [{'left': 0.30414692, 'top': 0.25469273, 'widt...  \n",
       "3    [{'left': 0.5341124, 'top': 0.41454566, 'width...  \n",
       "4    [{'left': 0.5626941, 'top': 0.4200442, 'width'...  \n",
       "..                                                 ...  \n",
       "384  [{'left': 0.5418597, 'top': 0.45997715, 'width...  \n",
       "385  [{'left': 0.17351826, 'top': 0.23820734, 'widt...  \n",
       "386  [{'left': 0.2798521, 'top': 0.5171221, 'width'...  \n",
       "387  [{'left': 0.301617, 'top': 0.20707689, 'width'...  \n",
       "388  [{'left': 0.35780194, 'top': 0.62812567, 'widt...  \n",
       "\n",
       "[389 rows x 3 columns]"
      ]
     },
     "execution_count": 43,
     "metadata": {},
     "output_type": "execute_result"
    }
   ],
   "source": [
    "dff_correct = pd.read_csv('./burner_images/correct_burner_detections.csv')\n",
    "dff_correct"
   ]
  },
  {
   "cell_type": "code",
   "execution_count": 45,
   "id": "226162b8-f59d-457f-aefe-76d9f98a2c91",
   "metadata": {},
   "outputs": [
    {
     "name": "stderr",
     "output_type": "stream",
     "text": [
      "  0%|▎                                                                                                            | 1/389 [00:02<15:18,  2.37s/it]"
     ]
    },
    {
     "name": "stdout",
     "output_type": "stream",
     "text": [
      "Image upload failed.\n",
      "burner_images\\correct_imgs\\4df319f3-81ef-47ba-ad9b-b2eddac35592.jpg\n",
      "Image status:  OKDuplicate\n"
     ]
    },
    {
     "name": "stderr",
     "output_type": "stream",
     "text": [
      "  1%|▌                                                                                                            | 2/389 [00:04<14:30,  2.25s/it]"
     ]
    },
    {
     "name": "stdout",
     "output_type": "stream",
     "text": [
      "Image upload failed.\n",
      "burner_images\\correct_imgs\\b57039ec-c1c3-40bc-a831-caa7a522d012.jpg\n",
      "Image status:  OKDuplicate\n"
     ]
    },
    {
     "name": "stderr",
     "output_type": "stream",
     "text": [
      "  1%|▊                                                                                                            | 3/389 [00:05<12:04,  1.88s/it]"
     ]
    },
    {
     "name": "stdout",
     "output_type": "stream",
     "text": [
      "Image upload failed.\n",
      "burner_images\\correct_imgs\\b753e287-43fb-4bb1-9e5b-ddd27dc5abbf.jpg\n",
      "Image status:  OKDuplicate\n"
     ]
    },
    {
     "name": "stderr",
     "output_type": "stream",
     "text": [
      "  1%|█                                                                                                            | 4/389 [00:06<08:19,  1.30s/it]"
     ]
    },
    {
     "name": "stdout",
     "output_type": "stream",
     "text": [
      "Image upload failed.\n",
      "burner_images\\correct_imgs\\b9404bfc-8225-477e-9264-239e97a52043.jpg\n",
      "Image status:  OKDuplicate\n"
     ]
    },
    {
     "name": "stderr",
     "output_type": "stream",
     "text": [
      "  1%|█▍                                                                                                           | 5/389 [00:09<11:27,  1.79s/it]"
     ]
    },
    {
     "name": "stdout",
     "output_type": "stream",
     "text": [
      "Image upload failed.\n",
      "burner_images\\correct_imgs\\comp_b5f5db95-9cfc-4184-b5d3-904535854ff9.jpg\n",
      "Image status:  OKDuplicate\n"
     ]
    },
    {
     "name": "stderr",
     "output_type": "stream",
     "text": [
      "  2%|█▋                                                                                                           | 6/389 [00:11<13:51,  2.17s/it]"
     ]
    },
    {
     "name": "stdout",
     "output_type": "stream",
     "text": [
      "Image upload failed.\n",
      "burner_images\\correct_imgs\\7b83a917-b6ea-4295-84e2-489ac590c8c3.jpg\n",
      "Image status:  OKDuplicate\n"
     ]
    },
    {
     "name": "stderr",
     "output_type": "stream",
     "text": [
      "  2%|█▉                                                                                                           | 7/389 [00:20<26:28,  4.16s/it]"
     ]
    },
    {
     "name": "stdout",
     "output_type": "stream",
     "text": [
      "Image upload failed.\n",
      "burner_images\\correct_imgs\\2457ad35-dc87-4601-83e8-5a19918cc667.jpg\n",
      "Image status:  OKDuplicate\n"
     ]
    },
    {
     "name": "stderr",
     "output_type": "stream",
     "text": [
      "  2%|██▏                                                                                                          | 8/389 [00:25<28:33,  4.50s/it]"
     ]
    },
    {
     "name": "stdout",
     "output_type": "stream",
     "text": [
      "Image upload failed.\n",
      "burner_images\\correct_imgs\\975620f4-7651-4946-b941-8a6c415f143b.jpg\n",
      "Image status:  OKDuplicate\n"
     ]
    },
    {
     "name": "stderr",
     "output_type": "stream",
     "text": [
      "100%|███████████████████████████████████████████████████████████████████████████████████████████████████████████| 389/389 [16:39<00:00,  2.57s/it]"
     ]
    },
    {
     "name": "stdout",
     "output_type": "stream",
     "text": [
      "Upload complete\n"
     ]
    },
    {
     "name": "stderr",
     "output_type": "stream",
     "text": [
      "\n"
     ]
    }
   ],
   "source": [
    "# cnt = 0 \n",
    "for j in tqdm(range(len(dff_correct['FileName']))):\n",
    "    # cnt +=1\n",
    "    img_filename = dff_correct.loc[j,'FileName']\n",
    "    img_path = './burner_images/correct_imgs/'+img_filename\n",
    "\n",
    "    img_path = str(PurePath(img_path))\n",
    "    assert exists(img_path), f\"File does not exist: {img_path}\"\n",
    "\n",
    "    regions = []\n",
    "    \n",
    "    bboxes = eval(dff_correct.loc[j,'bboxes'])\n",
    "\n",
    "    for i in bboxes:\n",
    "\n",
    "        #Normalize the boundings box coordinates between 0 and 1\n",
    "        x = i['left']\n",
    "        y = i['top']\n",
    "        w = i['width']\n",
    "        h = i['height']\n",
    "        label = i['label']\n",
    "\n",
    "        regions.append(Region(\n",
    "                    # tag_id=tags[label].id, \n",
    "                    tag_id=tags[label],\n",
    "                    left=x,\n",
    "                    top=y,\n",
    "                    width=w,\n",
    "                    height=h\n",
    "                )\n",
    "            )\n",
    "\n",
    "    #Create an object with the image and all of the annotations for that image\n",
    "    with open(img_path, mode=\"rb\") as image_contents:\n",
    "        image_and_annotations = [ImageFileCreateEntry(name=img_filename, contents=image_contents.read(), regions=regions)]\n",
    "\n",
    "    \n",
    "    #Upload the image and all annnotations for that image\n",
    "    upload_result = trainer.create_images_from_files(PROJECT_ID, ImageFileCreateBatch(images=image_and_annotations))\n",
    "    \n",
    "    #If upload is not successful, print details about that image for debugging \n",
    "    if not upload_result.is_batch_successful:\n",
    "        print(\"Image upload failed.\")\n",
    "        for image in upload_result.images:\n",
    "            print(img_path)\n",
    "            print(\"Image status: \", image.status)\n",
    "            # print(regions)\n",
    "            \n",
    "    # if cnt==8:\n",
    "    #     break\n",
    "\n",
    "#This will take a few minutes \n",
    "print(\"Upload complete\")"
   ]
  },
  {
   "cell_type": "code",
   "execution_count": null,
   "id": "d38c46a5-139b-4296-84ef-1103ddf8595a",
   "metadata": {},
   "outputs": [],
   "source": []
  }
 ],
 "metadata": {
  "kernelspec": {
   "display_name": "TF_env",
   "language": "python",
   "name": "tf_env"
  },
  "language_info": {
   "codemirror_mode": {
    "name": "ipython",
    "version": 3
   },
   "file_extension": ".py",
   "mimetype": "text/x-python",
   "name": "python",
   "nbconvert_exporter": "python",
   "pygments_lexer": "ipython3",
   "version": "3.9.18"
  }
 },
 "nbformat": 4,
 "nbformat_minor": 5
}
