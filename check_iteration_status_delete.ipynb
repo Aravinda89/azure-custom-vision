{
 "cells": [
  {
   "cell_type": "code",
   "execution_count": 10,
   "id": "de3758e7-7bd2-4d41-9686-c93e5f4cb82c",
   "metadata": {},
   "outputs": [
    {
     "name": "stdout",
     "output_type": "stream",
     "text": [
      "Iteration: Iteration 7, Status: Training\n"
     ]
    }
   ],
   "source": [
    "from azure.cognitiveservices.vision.customvision.training import CustomVisionTrainingClient\n",
    "from msrest.authentication import ApiKeyCredentials\n",
    "\n",
    "# Load Azure credentials from .env file\n",
    "load_dotenv()\n",
    "ENDPOINT = os.getenv(\"ENDPOINT\")\n",
    "TRAINING_KEY = os.getenv(\"TRAINING_KEY\")\n",
    "PROJECT_ID = os.getenv(\"PROJECT_ID\")\n",
    "\n",
    "credentials = ApiKeyCredentials(in_headers={\"Training-key\": TRAINING_KEY})\n",
    "trainer = CustomVisionTrainingClient(ENDPOINT, credentials)\n",
    "\n",
    "# Get iterations (models) in the project\n",
    "iterations = trainer.get_iterations(PROJECT_ID)\n",
    "\n",
    "# Check the latest iteration status\n",
    "latest_iteration = iterations[0]  # Assuming the latest one is first in the list\n",
    "print(f\"Iteration: {latest_iteration.name}, Status: {latest_iteration.status}\")\n",
    "\n",
    "# If it's still \"Training\", you may want to delete it (see next step)"
   ]
  },
  {
   "cell_type": "code",
   "execution_count": 9,
   "id": "dde2bf3f-176f-4581-80d7-c3efabc4418a",
   "metadata": {},
   "outputs": [
    {
     "name": "stdout",
     "output_type": "stream",
     "text": [
      "Deleted iteration: Iteration 6\n"
     ]
    }
   ],
   "source": [
    "# WARNING: This deletes the iteration permanently\n",
    "trainer.delete_iteration(PROJECT_ID, latest_iteration.id)\n",
    "print(f\"Deleted iteration: {latest_iteration.name}\")"
   ]
  }
 ],
 "metadata": {
  "kernelspec": {
   "display_name": "TF_env",
   "language": "python",
   "name": "tf_env"
  },
  "language_info": {
   "codemirror_mode": {
    "name": "ipython",
    "version": 3
   },
   "file_extension": ".py",
   "mimetype": "text/x-python",
   "name": "python",
   "nbconvert_exporter": "python",
   "pygments_lexer": "ipython3",
   "version": "3.9.18"
  }
 },
 "nbformat": 4,
 "nbformat_minor": 5
}
