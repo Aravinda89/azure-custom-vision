{
 "cells": [
  {
   "cell_type": "code",
   "execution_count": 1,
   "id": "e97dd0e2-f3db-42b3-80c9-fbb4c6439785",
   "metadata": {},
   "outputs": [],
   "source": [
    "import onnxruntime as ort\n",
    "import numpy as np\n",
    "from PIL import Image"
   ]
  },
  {
   "cell_type": "code",
   "execution_count": 2,
   "id": "76dd1609-9057-4a8e-84c1-adc78a8d1885",
   "metadata": {},
   "outputs": [],
   "source": [
    "# Load model and labels\n",
    "onnx_model_path = \"onnx_model/model.onnx\"\n",
    "labels_path = \"onnx_model/labels.txt\"\n",
    "\n",
    "with open(labels_path, \"r\") as f:\n",
    "    labels = [line.strip() for line in f.readlines()]"
   ]
  },
  {
   "cell_type": "code",
   "execution_count": 3,
   "id": "2532a631-1f15-41b7-a2d7-936b926c9db0",
   "metadata": {},
   "outputs": [],
   "source": [
    "# Load image and preprocess\n",
    "def preprocess_image(image_path):\n",
    "    img = Image.open(image_path).resize((224, 224))  # Size for most CV models\n",
    "    img = np.array(img).astype(np.float32) / 255.0\n",
    "    img = np.transpose(img, (2, 0, 1))  # HWC to CHW\n",
    "    img = np.expand_dims(img, axis=0)  # Add batch dimension\n",
    "    return img\n",
    "\n",
    "# Load ONNX model\n",
    "session = ort.InferenceSession(onnx_model_path)\n",
    "input_name = session.get_inputs()[0].name"
   ]
  },
  {
   "cell_type": "code",
   "execution_count": 16,
   "id": "84f1a451-73d2-4436-b862-16c705cf4366",
   "metadata": {},
   "outputs": [
    {
     "name": "stdout",
     "output_type": "stream",
     "text": [
      "Prediction: fork (80.68%)\n"
     ]
    }
   ],
   "source": [
    "# Predict\n",
    "image = preprocess_image(\"test.jpg\")\n",
    "outputs = session.run(None, {input_name: image})\n",
    "predictions = outputs[0][0]\n",
    "\n",
    "predicted_index = np.argmax(predictions)\n",
    "predicted_label = labels[predicted_index]\n",
    "\n",
    "print(f\"Prediction: {predicted_label} ({outputs[1][0][predicted_label]*100:.2f}%)\")"
   ]
  }
 ],
 "metadata": {
  "kernelspec": {
   "display_name": "TF_env",
   "language": "python",
   "name": "tf_env"
  },
  "language_info": {
   "codemirror_mode": {
    "name": "ipython",
    "version": 3
   },
   "file_extension": ".py",
   "mimetype": "text/x-python",
   "name": "python",
   "nbconvert_exporter": "python",
   "pygments_lexer": "ipython3",
   "version": "3.9.18"
  }
 },
 "nbformat": 4,
 "nbformat_minor": 5
}
