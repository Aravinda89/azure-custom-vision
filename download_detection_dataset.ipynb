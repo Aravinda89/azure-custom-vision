{
 "cells": [
  {
   "cell_type": "code",
   "execution_count": 3,
   "id": "94018f55-5108-4002-97bd-4dc0b6bee512",
   "metadata": {},
   "outputs": [],
   "source": [
    "from azure.cognitiveservices.vision.customvision.training import CustomVisionTrainingClient\n",
    "from msrest.authentication import ApiKeyCredentials\n",
    "import requests\n",
    "import os\n",
    "import json\n",
    "from dotenv import load_dotenv"
   ]
  },
  {
   "cell_type": "code",
   "execution_count": 4,
   "id": "9d9a6db9-e2bb-4b6d-baf1-1b611b18493f",
   "metadata": {},
   "outputs": [],
   "source": [
    "# Load Azure credentials from .env file\n",
    "load_dotenv()\n",
    "ENDPOINT = os.getenv(\"ENDPOINT\")\n",
    "TRAINING_KEY = os.getenv(\"TRAINING_KEY\")\n",
    "PROJECT_ID = os.getenv(\"PROJECT_ID\")\n",
    "\n",
    "# Create a folder for downloaded images and annotations\n",
    "EXPORT_FOLDER = \"detection_data\"\n",
    "ANNOTATIONS_FILE = \"annotations.json\"\n",
    "os.makedirs(EXPORT_FOLDER, exist_ok=True)"
   ]
  },
  {
   "cell_type": "code",
   "execution_count": 5,
   "id": "92550480-f808-4867-9e81-4197a8a6ad67",
   "metadata": {},
   "outputs": [
    {
     "name": "stdout",
     "output_type": "stream",
     "text": [
      "Retrieved 10 tagged images.\n"
     ]
    }
   ],
   "source": [
    "# Authenticate with Azure Custom Vision API\n",
    "trainer = CustomVisionTrainingClient(ENDPOINT, ApiKeyCredentials(in_headers={\"Training-key\": TRAINING_KEY}))\n",
    "\n",
    "# Function to fetch all tagged images in batches\n",
    "def get_all_tagged_images(project_id, max_per_call=256):\n",
    "    all_images = []\n",
    "    skip = 0\n",
    "    while True:\n",
    "        batch = trainer.get_tagged_images(project_id, take=max_per_call, skip=skip)\n",
    "        if not batch:\n",
    "            break\n",
    "        all_images.extend(batch)\n",
    "        skip += max_per_call\n",
    "    return all_images\n",
    "\n",
    "# Retrieve all tagged images\n",
    "tagged_images = get_all_tagged_images(PROJECT_ID)\n",
    "print(f\"Retrieved {len(tagged_images)} tagged images.\")"
   ]
  },
  {
   "cell_type": "code",
   "execution_count": 6,
   "id": "b50fb536-4311-49f8-90fc-14b2e3016eb6",
   "metadata": {},
   "outputs": [
    {
     "name": "stdout",
     "output_type": "stream",
     "text": [
      "Download complete. Images and annotations saved successfully.\n"
     ]
    }
   ],
   "source": [
    "annotations = []\n",
    "\n",
    "# Download images and collect bounding box data\n",
    "for image in tagged_images:\n",
    "    try:\n",
    "        # Download image\n",
    "        response = requests.get(image.original_image_uri)\n",
    "        if response.status_code == 200:\n",
    "            file_path = os.path.join(EXPORT_FOLDER, f\"{image.id}.jpg\")\n",
    "            with open(file_path, \"wb\") as file:\n",
    "                file.write(response.content)\n",
    "\n",
    "            # Store bounding box annotations\n",
    "            image_annotations = {\n",
    "                \"image_id\": image.id,\n",
    "                \"image_path\": file_path,\n",
    "                \"regions\": []\n",
    "            }\n",
    "            \n",
    "            # Bounding box annotations will be saved in the format: (left, top, width, height)\n",
    "            for region in image.regions:\n",
    "                image_annotations[\"regions\"].append({\n",
    "                    \"tag_name\": region.tag_name,\n",
    "                    \"left\": region.left,\n",
    "                    \"top\": region.top,\n",
    "                    \"width\": region.width,\n",
    "                    \"height\": region.height\n",
    "                })\n",
    "\n",
    "            annotations.append(image_annotations)\n",
    "\n",
    "    except Exception as e:\n",
    "        print(f\"Error processing image {image.id}: {e}\")\n",
    "        continue\n",
    "\n",
    "# Save annotations to a JSON file\n",
    "with open(os.path.join(EXPORT_FOLDER, ANNOTATIONS_FILE), \"w\") as f:\n",
    "    json.dump(annotations, f, indent=4)\n",
    "\n",
    "print(\"Download complete. Images and annotations saved successfully.\")"
   ]
  }
 ],
 "metadata": {
  "kernelspec": {
   "display_name": "TF_env",
   "language": "python",
   "name": "tf_env"
  },
  "language_info": {
   "codemirror_mode": {
    "name": "ipython",
    "version": 3
   },
   "file_extension": ".py",
   "mimetype": "text/x-python",
   "name": "python",
   "nbconvert_exporter": "python",
   "pygments_lexer": "ipython3",
   "version": "3.9.18"
  }
 },
 "nbformat": 4,
 "nbformat_minor": 5
}
