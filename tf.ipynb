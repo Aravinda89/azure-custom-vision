{
 "cells": [
  {
   "cell_type": "code",
   "execution_count": 1,
   "id": "a750ed85-34f0-4ed1-bfd8-b0e984dc3c63",
   "metadata": {},
   "outputs": [],
   "source": [
    "import tensorflow as tf\n",
    "import numpy as np\n",
    "from PIL import Image"
   ]
  },
  {
   "cell_type": "code",
   "execution_count": 3,
   "id": "3495e542-67f9-41a3-bc01-53bf227dbb77",
   "metadata": {},
   "outputs": [
    {
     "name": "stdout",
     "output_type": "stream",
     "text": [
      "INFO:tensorflow:Saver not created because there are no variables in the graph to restore\n"
     ]
    }
   ],
   "source": [
    "# Load the SavedModel using the correct API\n",
    "model = tf.saved_model.load(\"my_model/\")"
   ]
  },
  {
   "cell_type": "code",
   "execution_count": 7,
   "id": "37a09ce5-4698-47d5-9a7b-dd9c451144f7",
   "metadata": {},
   "outputs": [],
   "source": [
    "# Get the callable signature for prediction\n",
    "infer = model.signatures[\"serving_default\"]"
   ]
  },
  {
   "cell_type": "code",
   "execution_count": 8,
   "id": "16811e2d-544e-496e-a06c-5fb9609ab227",
   "metadata": {},
   "outputs": [],
   "source": [
    "# Preprocess image\n",
    "def preprocess_image(image_path):\n",
    "    image = Image.open(image_path).resize((224, 224)).convert('RGB')\n",
    "    image = np.array(image).astype(np.float32) / 255.0\n",
    "    image = np.expand_dims(image, axis=0)  # Add batch dimension\n",
    "    return tf.convert_to_tensor(image)\n",
    "\n",
    "# Run inference\n",
    "image_tensor = preprocess_image(\"test.jpg\")\n",
    "predictions = infer(image_tensor)"
   ]
  },
  {
   "cell_type": "code",
   "execution_count": 9,
   "id": "03f980d7-367e-4afb-96ef-d890c63dc855",
   "metadata": {},
   "outputs": [
    {
     "data": {
      "text/plain": [
       "{'outputs': <tf.Tensor: shape=(1, 2), dtype=float32, numpy=array([[0.8068215 , 0.19317846]], dtype=float32)>}"
      ]
     },
     "execution_count": 9,
     "metadata": {},
     "output_type": "execute_result"
    }
   ],
   "source": [
    "predictions"
   ]
  },
  {
   "cell_type": "code",
   "execution_count": 11,
   "id": "f34bdb46-7854-41ba-9a33-59ea737428c5",
   "metadata": {},
   "outputs": [
    {
     "name": "stdout",
     "output_type": "stream",
     "text": [
      "Prediction: fork (80.68%)\n"
     ]
    }
   ],
   "source": [
    "# Extract results (logits/tensor output)\n",
    "output_key = list(predictions.keys())[0]\n",
    "scores = predictions[output_key].numpy()[0]\n",
    "\n",
    "# Load labels\n",
    "with open(\"my_model/labels.txt\") as f:\n",
    "    labels = [line.strip() for line in f.readlines()]\n",
    "\n",
    "# Show result\n",
    "top_index = np.argmax(scores)\n",
    "print(f\"Prediction: {labels[top_index]} ({scores[top_index] * 100:.2f}%)\")"
   ]
  }
 ],
 "metadata": {
  "kernelspec": {
   "display_name": "TF_env",
   "language": "python",
   "name": "tf_env"
  },
  "language_info": {
   "codemirror_mode": {
    "name": "ipython",
    "version": 3
   },
   "file_extension": ".py",
   "mimetype": "text/x-python",
   "name": "python",
   "nbconvert_exporter": "python",
   "pygments_lexer": "ipython3",
   "version": "3.9.18"
  }
 },
 "nbformat": 4,
 "nbformat_minor": 5
}
